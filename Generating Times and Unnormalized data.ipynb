{
 "cells": [
  {
   "cell_type": "code",
   "execution_count": 1,
   "metadata": {},
   "outputs": [],
   "source": [
    "import pandas as pd\n",
    "import torch\n",
    "import numpy as np"
   ]
  },
  {
   "cell_type": "code",
   "execution_count": 2,
   "metadata": {},
   "outputs": [],
   "source": [
    "cols = ['GameTimeLeftSin', 'GameTimeLeftCos', 'Home 2-pt shot', 'Away 2-pt shot',\n",
    "        'Home 3-pt shot', 'Away 3-pt shot', 'HomeMade 2-pt shot',\n",
    "        'AwayMade 2-pt shot', 'HomeMade 3-pt shot', 'AwayMade 3-pt shot',\n",
    "        'AwayDRB', 'HomeDRB', 'AwayORB', 'HomeORB',\n",
    "        'AwayFoul', 'HomeFoul',\n",
    "        'AwayTurnover', 'HomeTurnover', 'AwayFreeThrow', 'HomeFreeThrow',\n",
    "        'AwayMadeFreeThrow', 'HomeMadeFreeThrow',\n",
    "        'Home 2-pt shotTotal', 'Away 2-pt shotTotal', 'HomeMade 2-pt shotTotal',\n",
    "        'AwayMade 2-pt shotTotal', 'Home 3-pt shotTotal', 'Away 3-pt shotTotal',\n",
    "        'HomeMade 3-pt shotTotal', 'AwayMade 3-pt shotTotal',\n",
    "        'AwayTurnoverTotal', 'HomeTurnoverTotal', 'AwayFreeThrowTotal',\n",
    "        'HomeFreeThrowTotal', 'AwayMadeFreeThrowTotal',\n",
    "        'HomeMadeFreeThrowTotal', 'AwayAssistTotal', 'HomeAssistTotal',\n",
    "        'AwayDRBTotal', 'HomeDRBTotal', 'AwayORBTotal', 'HomeORBTotal',\n",
    "        'AwayFoulTotal', 'HomeFoulTotal', 'AwayScore', 'HomeScore']\n",
    "PAD_LENGTH = 700\n",
    "def pad_data(data):\n",
    "    vec_length = len(data[0][0])\n",
    "    blank_pad = [[-1000] * vec_length]\n",
    "    # masks = [] # index of the last unpadded input for each game\n",
    "    for game in data:\n",
    "    #     print(len(game), len(game[0]))\n",
    "        padding = PAD_LENGTH - len(game)\n",
    "        # masks.append(int(0.75 * (len(game)-1)))\n",
    "        game.extend(blank_pad * padding)\n",
    "    # return np.array(masks)\n",
    "    return None\n"
   ]
  },
  {
   "cell_type": "code",
   "execution_count": 3,
   "metadata": {},
   "outputs": [],
   "source": [
    "\"\"\" loads our \"realtime\" data and saves it to disk to be used later \"\"\"\n",
    "df_test = pd.read_csv('./2020-21pbpfeatures.csv.zip')\n"
   ]
  },
  {
   "cell_type": "code",
   "execution_count": 4,
   "metadata": {},
   "outputs": [],
   "source": [
    "df_test_unnormalized = pd.read_csv('2020-21pbpfeatures_unnormalized.csv')\n"
   ]
  },
  {
   "cell_type": "code",
   "execution_count": 7,
   "metadata": {},
   "outputs": [
    {
     "name": "stdout",
     "output_type": "stream",
     "text": [
      "read csv of length 97673\n",
      "data has 209 games\n"
     ]
    },
    {
     "data": {
      "text/plain": [
       "torch.Size([209, 700, 46])"
      ]
     },
     "execution_count": 7,
     "metadata": {},
     "output_type": "execute_result"
    }
   ],
   "source": [
    "test_game_urls = df_test['URL'].unique()\n",
    "print(f'read csv of length {len(df_test)}')\n",
    "\n",
    "testHomeLabels = df_test.groupby('URL')['HomeFinalScore'].max()\n",
    "testAwayLabels = df_test.groupby('URL')['AwayFinalScore'].max()\n",
    "\n",
    "\n",
    "print(f'data has {len(testHomeLabels)} games')\n",
    "df_test['listified'] = df_test[cols].apply(list, axis=1).aggregate(list)\n",
    "\n",
    "\n",
    "test_data = df_test.groupby('URL')['listified'].aggregate(list)\n",
    "test_data = test_data.tolist()\n",
    "\n",
    "test_masks = pad_data(test_data)\n",
    "test_data = torch.tensor(test_data)\n",
    "\n",
    "game_lengths = df_test.groupby('URL').size().tolist()\n",
    "game_lengths = torch.tensor(game_lengths)\n",
    "test_data.shape"
   ]
  },
  {
   "cell_type": "code",
   "execution_count": 12,
   "metadata": {},
   "outputs": [],
   "source": [
    "test_game_urls = df_test_unnormalized['URL'].unique()\n",
    "print(f'read csv of length {len(df_test_unnormalized)}')\n",
    "\n",
    "testHomeLabels = df_test_unnormalized.groupby('URL')['HomeFinalScore'].max()\n",
    "testAwayLabels = df_test_unnormalized.groupby('URL')['AwayFinalScore'].max()\n",
    "\n",
    "\n",
    "print(f'data has {len(testHomeLabels)} games')\n",
    "df_test_unnormalized['listified'] = df_test_unnormalized[cols].apply(list, axis=1).aggregate(list)\n",
    "\n",
    "\n",
    "test_data_unnormalized = df_test_unnormalized.groupby('URL')['listified'].aggregate(list)\n",
    "test_data_unnormalized = test_data_unnormalized.tolist()\n",
    "\n",
    "test_masks = pad_data(test_data_unnormalized)\n",
    "test_data_unnormalized = torch.tensor(test_data_unnormalized)\n",
    "\n",
    "test_data_unnormalized.shape"
   ]
  },
  {
   "cell_type": "code",
   "execution_count": 24,
   "metadata": {},
   "outputs": [
    {
     "name": "stdout",
     "output_type": "stream",
     "text": [
      "read csv of length 97673\n",
      "data has 209 games\n"
     ]
    },
    {
     "data": {
      "text/plain": [
       "torch.Size([209, 700, 2])"
      ]
     },
     "execution_count": 24,
     "metadata": {},
     "output_type": "execute_result"
    }
   ],
   "source": [
    "test_game_urls = df_test_unnormalized['URL'].unique()\n",
    "print(f'read csv of length {len(df_test_unnormalized)}')\n",
    "\n",
    "testHomeLabels = df_test_unnormalized.groupby('URL')['HomeFinalScore'].max()\n",
    "testAwayLabels = df_test_unnormalized.groupby('URL')['AwayFinalScore'].max()\n",
    "\n",
    "\n",
    "print(f'data has {len(testHomeLabels)} games')\n",
    "time_cols = [\"Quarter\", \"SecLeft\"]\n",
    "df_test_unnormalized['listified'] = df_test_unnormalized[time_cols].apply(list, axis=1).aggregate(list)\n",
    "\n",
    "\n",
    "times = df_test_unnormalized.groupby('URL')['listified'].aggregate(list)\n",
    "times = times.tolist()\n",
    "\n",
    "test_masks = pad_data(times)\n",
    "times = torch.tensor(times)\n",
    "\n",
    "times.shape"
   ]
  },
  {
   "cell_type": "code",
   "execution_count": 26,
   "metadata": {},
   "outputs": [],
   "source": [
    "torch.save(times, \"times.pt\")"
   ]
  },
  {
   "cell_type": "code",
   "execution_count": 11,
   "metadata": {},
   "outputs": [
    {
     "name": "stdout",
     "output_type": "stream",
     "text": [
      "tensor([ 0.1067,  0.9943,  1.0000,  0.0000,  0.0000,  0.0000,  0.0000,  0.0000,\n",
      "         0.0000,  0.0000,  0.0000,  0.0000,  0.0000,  0.0000,  0.0000,  0.0000,\n",
      "         0.0000,  0.0000,  0.0000,  0.0000,  0.0000,  0.0000, 56.0000, 65.0000,\n",
      "        26.0000, 27.0000, 35.0000, 32.0000, 15.0000,  9.0000, 18.0000, 19.0000,\n",
      "        21.0000, 32.0000, 15.0000, 26.0000, 25.0000, 24.0000, 37.0000, 45.0000,\n",
      "        22.0000, 18.0000, 16.0000, 29.0000, -0.2667,  1.5333])\n"
     ]
    }
   ],
   "source": [
    "torch.set_printoptions(sci_mode=False)\n",
    "print(test_data_unnormalized[0][500])\n"
   ]
  },
  {
   "cell_type": "code",
   "execution_count": null,
   "metadata": {},
   "outputs": [],
   "source": [
    "test_data_unn"
   ]
  },
  {
   "cell_type": "code",
   "execution_count": 14,
   "metadata": {},
   "outputs": [
    {
     "data": {
      "text/plain": [
       "URL\n",
       "/boxscores/202012220BRK.html    [[-2.4492935982947064e-16, 1.0, 0.0, 0.0, 0.0,...\n",
       "/boxscores/202012220LAL.html    [[-2.4492935982947064e-16, 1.0, 0.0, 0.0, 0.0,...\n",
       "/boxscores/202012230BOS.html    [[-2.4492935982947064e-16, 1.0, 0.0, 0.0, 0.0,...\n",
       "/boxscores/202012230CHI.html    [[-2.4492935982947064e-16, 1.0, 0.0, 0.0, 0.0,...\n",
       "/boxscores/202012230CLE.html    [[-2.4492935982947064e-16, 1.0, 0.0, 0.0, 0.0,...\n",
       "                                                      ...                        \n",
       "/boxscores/202101200IND.html    [[-2.4492935982947064e-16, 1.0, 0.0, 0.0, 0.0,...\n",
       "/boxscores/202101200LAC.html    [[-2.4492935982947064e-16, 1.0, 0.0, 0.0, 0.0,...\n",
       "/boxscores/202101200MIN.html    [[-2.4492935982947064e-16, 1.0, 0.0, 0.0, 0.0,...\n",
       "/boxscores/202101200PHI.html    [[-2.4492935982947064e-16, 1.0, 0.0, 0.0, 0.0,...\n",
       "/boxscores/202101200TOR.html    [[-2.4492935982947064e-16, 1.0, 0.0, 0.0, 0.0,...\n",
       "Name: listified, Length: 209, dtype: object"
      ]
     },
     "execution_count": 14,
     "metadata": {},
     "output_type": "execute_result"
    }
   ],
   "source": [
    "df_test.groupby('URL')['listified'].aggregate(list)"
   ]
  },
  {
   "cell_type": "code",
   "execution_count": null,
   "metadata": {},
   "outputs": [],
   "source": []
  }
 ],
 "metadata": {
  "kernelspec": {
   "display_name": "Python 3",
   "language": "python",
   "name": "python3"
  },
  "language_info": {
   "codemirror_mode": {
    "name": "ipython",
    "version": 3
   },
   "file_extension": ".py",
   "mimetype": "text/x-python",
   "name": "python",
   "nbconvert_exporter": "python",
   "pygments_lexer": "ipython3",
   "version": "3.7.6"
  }
 },
 "nbformat": 4,
 "nbformat_minor": 4
}
